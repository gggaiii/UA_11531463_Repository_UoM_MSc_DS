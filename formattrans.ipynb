{
 "cells": [
  {
   "cell_type": "code",
   "execution_count": 1,
   "id": "0ee49469",
   "metadata": {},
   "outputs": [
    {
     "name": "stderr",
     "output_type": "stream",
     "text": [
      "<>:5: SyntaxWarning: invalid escape sequence '\\E'\n",
      "<>:6: SyntaxWarning: invalid escape sequence '\\E'\n",
      "<>:7: SyntaxWarning: invalid escape sequence '\\E'\n",
      "<>:15: SyntaxWarning: invalid escape sequence '\\E'\n",
      "<>:5: SyntaxWarning: invalid escape sequence '\\E'\n",
      "<>:6: SyntaxWarning: invalid escape sequence '\\E'\n",
      "<>:7: SyntaxWarning: invalid escape sequence '\\E'\n",
      "<>:15: SyntaxWarning: invalid escape sequence '\\E'\n",
      "C:\\Users\\Harry.Xie\\AppData\\Local\\Temp\\ipykernel_32936\\3918357351.py:5: SyntaxWarning: invalid escape sequence '\\E'\n",
      "  bus_stops_path = \"C:\\\\StudySources\\\\Master\\ERP\\\\geo\\\\busstops.geojson\"\n",
      "C:\\Users\\Harry.Xie\\AppData\\Local\\Temp\\ipykernel_32936\\3918357351.py:6: SyntaxWarning: invalid escape sequence '\\E'\n",
      "  rail_tram_stations_path = \"C:\\\\StudySources\\\\Master\\ERP\\\\geo\\\\railtramstation.geojson\"\n",
      "C:\\Users\\Harry.Xie\\AppData\\Local\\Temp\\ipykernel_32936\\3918357351.py:7: SyntaxWarning: invalid escape sequence '\\E'\n",
      "  railways_path = \"C:\\\\StudySources\\\\Master\\ERP\\\\geo\\\\railwaystramways.geojson\"\n",
      "C:\\Users\\Harry.Xie\\AppData\\Local\\Temp\\ipykernel_32936\\3918357351.py:15: SyntaxWarning: invalid escape sequence '\\E'\n",
      "  output_dir = \"C:\\\\StudySources\\\\Master\\ERP\\\\geo\\\\shp_exports\"\n",
      "C:\\Users\\Harry.Xie\\AppData\\Local\\Temp\\ipykernel_32936\\3918357351.py:24: UserWarning: Column names longer than 10 characters will be truncated when saved to ESRI Shapefile.\n",
      "  bus_stops.to_file(bus_stops_shp)\n",
      "C:\\Users\\Harry.Xie\\AppData\\Local\\Temp\\ipykernel_32936\\3918357351.py:25: UserWarning: Column names longer than 10 characters will be truncated when saved to ESRI Shapefile.\n",
      "  rail_tram_stations.to_file(rail_stations_shp)\n",
      "C:\\Users\\Harry.Xie\\AppData\\Local\\Temp\\ipykernel_32936\\3918357351.py:26: UserWarning: Column names longer than 10 characters will be truncated when saved to ESRI Shapefile.\n",
      "  railways.to_file(railways_shp)\n"
     ]
    },
    {
     "data": {
      "text/plain": [
       "['bus_stops.cpg',\n",
       " 'bus_stops.dbf',\n",
       " 'bus_stops.prj',\n",
       " 'bus_stops.shp',\n",
       " 'bus_stops.shx',\n",
       " 'railways.cpg',\n",
       " 'railways.dbf',\n",
       " 'railways.prj',\n",
       " 'railways.shp',\n",
       " 'railways.shx',\n",
       " 'rail_tram_stations.cpg',\n",
       " 'rail_tram_stations.dbf',\n",
       " 'rail_tram_stations.prj',\n",
       " 'rail_tram_stations.shp',\n",
       " 'rail_tram_stations.shx']"
      ]
     },
     "execution_count": 1,
     "metadata": {},
     "output_type": "execute_result"
    }
   ],
   "source": [
    "import geopandas as gpd\n",
    "import os\n",
    "\n",
    "# Define input file paths\n",
    "bus_stops_path = \"C:\\\\StudySources\\\\Master\\ERP\\\\geo\\\\busstops.geojson\"\n",
    "rail_tram_stations_path = \"C:\\\\StudySources\\\\Master\\ERP\\\\geo\\\\railtramstation.geojson\"\n",
    "railways_path = \"C:\\\\StudySources\\\\Master\\ERP\\\\geo\\\\railwaystramways.geojson\"\n",
    "\n",
    "# Read the GeoJSON files\n",
    "bus_stops = gpd.read_file(bus_stops_path)\n",
    "rail_tram_stations = gpd.read_file(rail_tram_stations_path)\n",
    "railways = gpd.read_file(railways_path)\n",
    "\n",
    "# Define output directory\n",
    "output_dir = \"C:\\\\StudySources\\\\Master\\ERP\\\\geo\\\\shp_exports\"\n",
    "os.makedirs(output_dir, exist_ok=True)\n",
    "\n",
    "# Define shapefile export paths\n",
    "bus_stops_shp = os.path.join(output_dir, \"bus_stops.shp\")\n",
    "rail_stations_shp = os.path.join(output_dir, \"rail_tram_stations.shp\")\n",
    "railways_shp = os.path.join(output_dir, \"railways.shp\")\n",
    "\n",
    "# Export to shapefile\n",
    "bus_stops.to_file(bus_stops_shp)\n",
    "rail_tram_stations.to_file(rail_stations_shp)\n",
    "railways.to_file(railways_shp)\n",
    "\n",
    "# List the exported files\n",
    "os.listdir(output_dir)\n"
   ]
  }
 ],
 "metadata": {
  "kernelspec": {
   "display_name": "Python 3",
   "language": "python",
   "name": "python3"
  },
  "language_info": {
   "codemirror_mode": {
    "name": "ipython",
    "version": 3
   },
   "file_extension": ".py",
   "mimetype": "text/x-python",
   "name": "python",
   "nbconvert_exporter": "python",
   "pygments_lexer": "ipython3",
   "version": "3.12.4"
  }
 },
 "nbformat": 4,
 "nbformat_minor": 5
}
